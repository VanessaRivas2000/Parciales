{
  "nbformat": 4,
  "nbformat_minor": 0,
  "metadata": {
    "colab": {
      "provenance": [],
      "collapsed_sections": [],
      "authorship_tag": "ABX9TyO2MHFAwMuDBXp0ur7nXfqV",
      "include_colab_link": true
    },
    "kernelspec": {
      "name": "python3",
      "display_name": "Python 3"
    },
    "language_info": {
      "name": "python"
    }
  },
  "cells": [
    {
      "cell_type": "markdown",
      "metadata": {
        "id": "view-in-github",
        "colab_type": "text"
      },
      "source": [
        "<a href=\"https://colab.research.google.com/github/VanessaRivas2000/Parciales/blob/main/Parciales.ipynb\" target=\"_parent\"><img src=\"https://colab.research.google.com/assets/colab-badge.svg\" alt=\"Open In Colab\"/></a>"
      ]
    },
    {
      "cell_type": "code",
      "source": [
        "# Ejercicio 1: Desarrolle un algoritmo en Python que permita obtener los descuentos ISSS, AFP, I.S.R, vacaciones, aguinaldo etc. Uno para empresas y otro para personas. \n",
        "# Favor investigue los datos correspondientes según ley. El usuario deberá ingresar el sueldo y que el sistema le diga el valor neto a pagarle y las deducciones. (30%)\n",
        "# Para empresas"
      ],
      "metadata": {
        "id": "BV_uPD32lCan"
      },
      "execution_count": null,
      "outputs": []
    },
    {
      "cell_type": "code",
      "source": [
        "# Para Empresa"
      ],
      "metadata": {
        "id": "KQ0EAzoAmJ7j"
      },
      "execution_count": null,
      "outputs": []
    },
    {
      "cell_type": "code",
      "source": [
        "empresa = float(input(\"El salario es de: \"))\n",
        "ISSS = empresa * 0.075\n",
        "AFP = empresa * 0.015\n",
        "VCN = empresa * 0.030\n",
        "AGN = empresa * 0.050\n",
        "desc = (ISSS + AFP)\n",
        "aumen = ( VCN + AGN)\n",
        "salario = empresa - (ISSS + AFP) +  (VCN + AGN)"
      ],
      "metadata": {
        "colab": {
          "base_uri": "https://localhost:8080/"
        },
        "id": "tC5wwU6xlFXv",
        "outputId": "b433c9be-18ae-49ed-9f5c-d9afdaba0bfe"
      },
      "execution_count": 1,
      "outputs": [
        {
          "name": "stdout",
          "output_type": "stream",
          "text": [
            "El salario es de: 500.00\n"
          ]
        }
      ]
    },
    {
      "cell_type": "code",
      "source": [
        "print(\"El descuento de AFP es de: \",AFP,\n",
        "      \"El descuento de ISS es de: \",ISSS,\n",
        "      \"El aumento por trabajar en vacaciones es de: \",VCN, \n",
        "      \"El aumento de su aguinaldo es de: \",AGN)"
      ],
      "metadata": {
        "colab": {
          "base_uri": "https://localhost:8080/"
        },
        "id": "tynEp8VDlc6U",
        "outputId": "6e8999a6-226f-4cf1-a45d-2160f61f917f"
      },
      "execution_count": 2,
      "outputs": [
        {
          "output_type": "stream",
          "name": "stdout",
          "text": [
            "El descuento de AFP es de:  7.5 El descuento de ISS es de:  37.5 El aumento por trabajar en vacaciones es de:  15.0 El aumento de su aguinaldo es de:  25.0\n"
          ]
        }
      ]
    },
    {
      "cell_type": "code",
      "source": [
        "if (salario <= 100000.00):\n",
        "  print(\"Su salario  es de: \", salario)\n",
        "  print(\"Está libre de impuestos ISR\")\n",
        "\n",
        "elif(salario <= 150000.00):\n",
        "  tramoII = salario * 0.10\n",
        "  salariorenta = (salario - tramoII)\n",
        "  print(\"El ISR total a pagar es de: \", tramoII)\n",
        "  print(\"Su salario es de: \", salariorenta)\n",
        "\n",
        "elif(salario <= 200000.00):\n",
        "  tramoIII = salario * 0.20\n",
        "  salariorenta = (salario - tramoIII)\n",
        "  print(\"El ISR a pagar es de: \",tramoIII)\n",
        "  print(\"Su salario es de: \",salariorenta)\n",
        "\n",
        "elif(salario >= 200000.00):\n",
        "  tramoIV = salario * 0.30\n",
        "  salariorenta = (salario - tramoIV)\n",
        "  print(\"El ISR a pagar es de: \",tramoIV)\n",
        "  print(\"Su salario es de: \", salariorenta)\n",
        "\n",
        "else:\n",
        "  print(\"Está libre de impuesto :)\")"
      ],
      "metadata": {
        "colab": {
          "base_uri": "https://localhost:8080/"
        },
        "id": "fqMbsoIDlofL",
        "outputId": "dabebf82-b5df-4523-ae2f-f488e4fd9b28"
      },
      "execution_count": 3,
      "outputs": [
        {
          "output_type": "stream",
          "name": "stdout",
          "text": [
            "Su salario  es de:  495.0\n",
            "Está libre de impuestos ISR\n"
          ]
        }
      ]
    },
    {
      "cell_type": "code",
      "source": [
        "# Para Personas"
      ],
      "metadata": {
        "id": "Zz3mYMYol7dV"
      },
      "execution_count": null,
      "outputs": []
    },
    {
      "cell_type": "code",
      "source": [
        "salario = float(input(\"Su salario es de: \"))\n",
        "ISSS = salario * 0.003\n",
        "AFP = salario * 0.0625\n",
        "VCN = salario * 0.025\n",
        "AGN = salario * 0.010\n",
        "desc = (ISSS + AFP)\n",
        "aumen = (VCN + AGN)\n",
        "salario = salario - (ISSS + AFP) + (VCN + AGN)"
      ],
      "metadata": {
        "colab": {
          "base_uri": "https://localhost:8080/"
        },
        "id": "YvO4Ttb2mGXU",
        "outputId": "654d917c-75ab-4da1-a6db-605b1a8a3d05"
      },
      "execution_count": 4,
      "outputs": [
        {
          "name": "stdout",
          "output_type": "stream",
          "text": [
            "Su salario es de: 55\n"
          ]
        }
      ]
    },
    {
      "cell_type": "code",
      "source": [
        "print(\"El descuento de AFP es de: \",AFP,\n",
        "      \"El descuento de ISS es de: \",ISSS,\n",
        "      \"El aumento por trabajar en vacaciones es de: \",VCN,\n",
        "      \"El aumento por su aguinaldo es de: \",AGN)"
      ],
      "metadata": {
        "colab": {
          "base_uri": "https://localhost:8080/"
        },
        "id": "raxsdBlimOAC",
        "outputId": "78ef34fd-34a3-497f-c221-b57d45b7e8b4"
      },
      "execution_count": 5,
      "outputs": [
        {
          "output_type": "stream",
          "name": "stdout",
          "text": [
            "El descuento de AFP es de:  3.4375 El descuento de ISS es de:  0.165 El aumento por trabajar en vacaciones es de:  1.375 El aumento por su aguinaldo es de:  0.55\n"
          ]
        }
      ]
    },
    {
      "cell_type": "code",
      "source": [
        "if (salario <= 520.00):\n",
        "  print(\"Su salario es de: \",salario)\n",
        "  print(\"Está libre de impuestos ISR\")\n",
        "\n",
        "elif(salario <= 900.00):\n",
        "  tramoII = salario * 0.10\n",
        "  salariorenta = (salario - tramoII)\n",
        "  print(\"El ISR total a pagar es de: \",tramoII)\n",
        "  print(\"Su salario es de: \",salariorenta)\n",
        "\n",
        "elif(salario <= 2000.00):\n",
        "  tramoIII = salario * 0.20\n",
        "  salariorenta = (salario - tramoIII)\n",
        "  print(\"El ISR total a pagar es de: \",tramoIII)\n",
        "  print(\"Su salario es de: \",salariorenta)\n",
        "\n",
        "elif(salario >= 2000):\n",
        "  tramoIV = salario * 0.30\n",
        "  salariorenta = (salario - tramoIV)\n",
        "  print(\"El ISR total a pagar es de: \",tramoIV)\n",
        "  print(\"Su salario es de: \",salariorenta)\n",
        "\n",
        "else:\n",
        "  print(\"Está libre de impuestos ISR\")"
      ],
      "metadata": {
        "colab": {
          "base_uri": "https://localhost:8080/"
        },
        "id": "HIBOM378mROz",
        "outputId": "ab0128f3-4e00-4517-f561-5e4c70c1ce5a"
      },
      "execution_count": 6,
      "outputs": [
        {
          "output_type": "stream",
          "name": "stdout",
          "text": [
            "Su salario es de:  53.3225\n",
            "Está libre de impuestos ISR\n"
          ]
        }
      ]
    },
    {
      "cell_type": "code",
      "source": [
        "# Ejercicio 2: 2.\tDesarrolle un algoritmo en Python que calcule el IMPUESTO A LAS ACTIVIDADES ECONOMICAS de acuerdo con la siguiente tabla. \n",
        "# El monto de la actividad económica debe ser introducido por el usuario. (30%)"
      ],
      "metadata": {
        "id": "vL4bCbJ7mhub"
      },
      "execution_count": null,
      "outputs": []
    },
    {
      "cell_type": "code",
      "source": [
        "Monto=float(input('Cual es el monto de tu actividad economica?: '))\n",
        "if Monto>0.01 and Monto<=500:\n",
        "     impuesto= Monto -0.01\n",
        "     resultado=(impuesto/1000)*0.0+1.5\n",
        "\n",
        "elif Monto>500.01 and Monto<=1000:\n",
        "     impuesto=Monto - 500.01\n",
        "     resultado=(impuesto/1000)*3.0+1.5\n",
        "\n",
        "elif Monto>1000.01 and Monto<=2000:\n",
        "    impuesto=Monto - 1000.01\n",
        "    resultado=(impuesto/1000)*3.0+3.0\n",
        "\n",
        "elif Monto>2000.01 and Monto<=3000:\n",
        "    impuesto=Monto - 2000.01\n",
        "    resultado=(impuesto/1000)*3.0+6.0\n",
        "   \n",
        "elif Monto>3000.01 and Monto<=6000:\n",
        "     impuesto=Monto - 3000.01\n",
        "     resultado=(impuesto/1000)*2.0+9.0\n",
        "\n",
        "elif Monto>8000.01 and Monto<=18000:\n",
        "     impuesto=Monto - 8000.01\n",
        "     resultado=(impuesto/1000)*2+15\n",
        "\n",
        "elif Monto>18000.01 and Monto<=30000:\n",
        "     impuesto=Monto - 18000.01\n",
        "     resultado=(impuesto/1000)*2+39\n",
        "\n",
        "elif Monto>30000.01 and Monto<=60000:\n",
        "    impuesto=Monto - 30000.01\n",
        "    resultado=(impuesto/1000)*1.0+63.0\n",
        "\n",
        "elif Monto>60000.01 and Monto<=100000:\n",
        "    impuesto=Monto - 60000.01\n",
        "    resultado=(impuesto/1000)*0.8+93\n",
        "\n",
        "elif Monto>100000.01 and Monto<=200000:\n",
        "    impuesto=Monto - 100000.01\n",
        "    resultado=(impuesto/1000)*0.7+125\n",
        "\n",
        "elif Monto>200000.01 and Monto<=300000:\n",
        "    impuesto=Monto - 200000.01\n",
        "    resultado=(impuesto/1000)*0.6+195\n",
        "\n",
        "elif Monto>300000.01 and Monto<=400000:\n",
        "    impuesto=Monto - 300000.01\n",
        "    resultado=(impuesto/1000)*0.45+255\n",
        "\n",
        "elif Monto>400000.01 and Monto<=500000:\n",
        "     impuesto=Monto - 400000.01\n",
        "     resultado=(impuesto/1000)*0.4+300\n",
        "\n",
        "elif Monto>500000.01 and Monto<=1000000:\n",
        "     impuesto=Monto - 500000.01\n",
        "     resultado=(impuesto/1000)*0.30+340\n",
        "\n",
        "elif Monto>1000000.01 and Monto<=99999999:\n",
        "     impuesto=Monto - 1000000.01\n",
        "     resultado=(impuesto/1000)*0.18+490\n",
        "else:\n",
        "    impuesto=0\n",
        "print('El impuesto a pagar es $: ', resultado)"
      ],
      "metadata": {
        "colab": {
          "base_uri": "https://localhost:8080/"
        },
        "id": "ciPxV885myTD",
        "outputId": "4deacc75-1d1a-4830-a3f8-8b4c2b7c870d"
      },
      "execution_count": 7,
      "outputs": [
        {
          "output_type": "stream",
          "name": "stdout",
          "text": [
            "Cual es el monto de tu actividad economica?: 650.00\n",
            "El impuesto a pagar es $:  1.94997\n"
          ]
        }
      ]
    },
    {
      "cell_type": "code",
      "source": [
        "# Ejercicio 3:\tDesarrolle el conversor de Área (Superficie) haciendo uso de los diccionarios y las funciones de usuario en Python que contenga las siguientes opciones: \n",
        "# a.\tPie Cuadrado\n",
        "# b.\tVara Cuadrada\n",
        "# c.\tYarda Cuadrada\n",
        "# d.\tMetro Cuadrado\n",
        "# e.\tTareas\n",
        "# f.\tManzana\n",
        "# g.\tHectárea (20%)"
      ],
      "metadata": {
        "id": "hEyLhBpynJdS"
      },
      "execution_count": null,
      "outputs": []
    },
    {
      "cell_type": "code",
      "source": [
        "medidas = {'Numero 1' : 0.94, 'Numero 2' : 0.70, 'Numero 3': 0.84, 'Numero 4': 1e-6, 'Numero 5': 628.86, 'Numero 6': 100, 'Numero 7': 10000}\n",
        "\n",
        "valores = [0.09,0.70, 0.84, 1e-6, 628.86, 100, 10000]\n"
      ],
      "metadata": {
        "id": "jwTbZ5BkO1CQ"
      },
      "execution_count": null,
      "outputs": []
    },
    {
      "cell_type": "code",
      "source": [
        "def convertir(de, a, cantidad):\n",
        "  return valores[a] / valores[de] * cantidad\n"
      ],
      "metadata": {
        "id": "NDwmgPPY7Gpy"
      },
      "execution_count": null,
      "outputs": []
    },
    {
      "cell_type": "code",
      "source": [
        "print(\"*** MENU - CONVERSOR***\")\n",
        "print(\"1. Pie cuadrado\")\n",
        "print(\"2. Vara cuadrada\")\n",
        "print(\"3. Yarda cuadrada\")\n",
        "print(\"4. Metro cuadrado\")\n",
        "print(\"5. Tareas\")\n",
        "print(\"7. Manzanas\")\n",
        "print(\"8. Hectareas\")"
      ],
      "metadata": {
        "colab": {
          "base_uri": "https://localhost:8080/"
        },
        "id": "4EHvbtWw7U_C",
        "outputId": "241d7fc3-d74a-48d0-e9e7-b496e86fdbd3"
      },
      "execution_count": null,
      "outputs": [
        {
          "output_type": "stream",
          "name": "stdout",
          "text": [
            "*** MENU - CONVERSOR***\n",
            "1. Pie cuadrado\n",
            "2. Vara cuadrada\n",
            "3. Yarda cuadrada\n",
            "4. Metro cuadrado\n",
            "5. Tareas\n",
            "7. Manzanas\n",
            "8. Hectareas\n"
          ]
        }
      ]
    },
    {
      "cell_type": "code",
      "source": [
        "\n",
        "de = int(input(\"DE: \"))\n",
        "a = int(input(\"A: \"))\n",
        "cantidad = int(input(\"Cantidad: \"))\n",
        "print(\"en pie cuadrado: \", medidas[ 'Numero 1'] * cantidad)\n",
        "\n",
        "print(\"En Vara cuadrada: \", medidas['Numero 2'] * cantidad)\n",
        "\n",
        "print(\"En Yarda cuadrada:\", medidas['Numero 3'] * cantidad)\n",
        "\n",
        "print(\"En Metro cuadrado: \", medidas['Numero 4'] * cantidad)\n",
        "\n",
        "print(\"En Tareas: \", medidas['Numero 5'] * cantidad)\n",
        "\n",
        "print(\"En Manzanas: \", medidas['Numero 6'] * cantidad)\n",
        "\n",
        "print(\"En Hectareas: \", medidas['Numero 7'] * cantidad)"
      ],
      "metadata": {
        "colab": {
          "base_uri": "https://localhost:8080/"
        },
        "id": "qNtFITDU7OkT",
        "outputId": "d52530a1-fa92-4261-a7bb-52fb3c1b2d7e"
      },
      "execution_count": null,
      "outputs": [
        {
          "output_type": "stream",
          "name": "stdout",
          "text": [
            "DE: 5\n",
            "A: 2\n",
            "Cantidad: 12\n",
            "en pie cuadrado:  11.28\n",
            "En Vara cuadrada:  8.399999999999999\n",
            "En Yarda cuadrada: 10.08\n",
            "En Metro cuadrado:  1.2e-05\n",
            "En Tareas:  7546.32\n",
            "En Manzanas:  1200\n",
            "En Hectareas:  120000\n"
          ]
        }
      ]
    },
    {
      "cell_type": "code",
      "source": [
        "# Ejercicio 4: 4.\tdradasarrolle un programa en Python que simule a un cajero automático. Haga uso de las estructuras de control. (20%)\n",
        "# Eje. Ingrese la cantidad a retirar: 199.89 9 billetes de a 20 \n",
        "# 1 billete de a 10\n",
        "# 1 billete de a 5\n",
        "# 4 billetes de a 1\n",
        "# 3 monedas de 0.25 ctvs.\n",
        "# 1 moneda de 0. 1 ctvs.\n",
        "# 4 monedas de 0.01 ctvs."
      ],
      "metadata": {
        "id": "KGdpznUG7gHS"
      },
      "execution_count": null,
      "outputs": []
    },
    {
      "cell_type": "code",
      "source": [
        "carga100 = 100\n",
        "carga50 = 100\n",
        "carga20 = 100\n",
        "carga10 = 100\n",
        "carga5 = 100\n",
        " \n",
        " \n",
        "def sacar_dinero(cantidad):\n",
        "  global carga100, carga50, carga20, carga10, carga5\n",
        "  if cantidad <= 100 * carga100 + 50 * carga50 + 20 * carga20 + 10 * carga10 + 5 * carga5:\n",
        "    de100 = int(cantidad/100)\n",
        "    cantidad = cantidad % 100\n",
        "    if de100 >= carga100: \n",
        "        cantidad = cantidad + (de100 - carga100) * 100\n",
        "        de100 = carga100\n",
        " \n",
        "    de50 = int(cantidad / 50)\n",
        "    cantidad = cantidad % 50\n",
        "    if de50 >= carga50: \n",
        "      cantidad = cantidad + (de50 - carga50) * 50\n",
        "      de50 = carga50\n",
        " \n",
        "    de20 = int(cantidad / 20)\n",
        "    cantidad = cantidad % 20\n",
        "    if de20 >= carga20:\n",
        "      cantidad = cantidad + (de20 - carga20) * 20\n",
        "      de20 = carga20\n",
        " \n",
        "    de10 = int(cantidad / 10)\n",
        "    cantidad = cantidad % 10\n",
        "    if de10 >= carga10:\n",
        "      cantidad = cantidad + (de10 - carga10) * 10\n",
        "      de10 = carga10\n",
        " \n",
        "    de5 = int(cantidad / 5)\n",
        "    cantidad = cantidad % 5\n",
        "    if de5  >= carga5: \n",
        "        cantidad = cantidad + (de5 - carga5) * 5\n",
        "        de5 = carga5\n",
        " \n",
        " \n",
        " \n",
        " \n",
        "   \n",
        "    if cantidad == 0:\n",
        "     \n",
        "      carga100= carga100 - de100\n",
        "      carga50 = carga50 - de50\n",
        "      carga20 = carga20 - de20\n",
        "      carga10 = carga10 - de10\n",
        "      carga5 = carga5 - de5\n",
        "      return [de100, de50, de20, de10, de5]\n",
        "    else: \n",
        "      return [0, 0, 0, 0, 0]\n",
        "  else:\n",
        "    return [-1, -1, -1, -1, -1]\n",
        " \n",
        "try:\n",
        "    c = int(input('Cantidad a extraer: '))\n",
        "    resultado=sacar_dinero(c)\n",
        "    if resultado==[0,0,0,0,0]:\n",
        "        print ('No hay desglose de billetes para su importe')\n",
        "    elif resultado==[-1,-1,-1,-1,-1]:\n",
        "        print ('No hay suficientes billetes')\n",
        "    else:\n",
        "        print ( resultado[0],  'Billetes de 100')\n",
        "        print ( resultado[1],  'Billetes de 50:')\n",
        "        print ( resultado[2],  'Billetes de 20:')\n",
        "        print ( resultado[3], 'Billetes de 10:')\n",
        "        print ( resultado [4], 'Billetes de 5:')\n",
        "except:\n",
        "    print ('Importe incorrecto')"
      ],
      "metadata": {
        "colab": {
          "base_uri": "https://localhost:8080/"
        },
        "id": "m786jpZKnoFy",
        "outputId": "8c3ce389-aa8a-40a1-eab6-6abc78566267"
      },
      "execution_count": 8,
      "outputs": [
        {
          "output_type": "stream",
          "name": "stdout",
          "text": [
            "Cantidad a extraer: 550\n",
            "5 Billetes de 100\n",
            "1 Billetes de 50:\n",
            "0 Billetes de 20:\n",
            "0 Billetes de 10:\n",
            "0 Billetes de 5:\n"
          ]
        }
      ]
    }
  ]
}